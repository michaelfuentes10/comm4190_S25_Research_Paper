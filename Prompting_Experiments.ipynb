{
 "cells": [
  {
   "attachments": {},
   "cell_type": "markdown",
   "id": "94632e37-fa5b-4411-a130-09201cd99e61",
   "metadata": {},
   "source": [
    "# Guidance Prompting\n",
    "\t1. Solo Predictive Model\n",
    "\t2. Paired Predictive Model and in-person guidance counselor\n",
    "*Note: the model will predict college fit, not likelihood of admission to stay true to the category of exploration.*\n",
    "\n",
    "**Shared Scenario:**\n",
    "Name: Lionel Messi\n",
    "School Location: Long Island, NY\n",
    "Academic Interests: Economics, History\n",
    "Personal Interests: Community service, the outdoors, traveling\n",
    "College Priorities (most to least important): Financial Fit, Academic Fit, Social Fit\n",
    "Attributes: First-generation, Latino, one older brother going to state school\n",
    "\n",
    "*Note: This information will be shared to the LLM guide first, before it is looked over by the guidance counselor to give contextual understanding and discussion to what's said through the LLM predictive model.*"
   ]
  },
  {
   "cell_type": "markdown",
   "id": "d132e0e1-a24e-4f1c-96d3-4fab49ab7185",
   "metadata": {},
   "source": [
    "### Step 1: LLM Predictive Guide Training\n",
    "First, we must define to the LLM what it is, what it's goals are, and to stay on task with what it is asked.\n"
   ]
  },
  {
   "cell_type": "code",
   "execution_count": null,
   "id": "3b9251dc-7c0d-4b69-9b56-7525827950b8",
   "metadata": {},
   "outputs": [],
   "source": []
  }
 ],
 "metadata": {
  "kernelspec": {
   "display_name": "Python 3-12 (COMM4190)",
   "language": "python",
   "name": "python3-12_comm4190"
  },
  "language_info": {
   "codemirror_mode": {
    "name": "ipython",
    "version": 3
   },
   "file_extension": ".py",
   "mimetype": "text/x-python",
   "name": "python",
   "nbconvert_exporter": "python",
   "pygments_lexer": "ipython3",
   "version": "3.12.8"
  }
 },
 "nbformat": 4,
 "nbformat_minor": 5
}
