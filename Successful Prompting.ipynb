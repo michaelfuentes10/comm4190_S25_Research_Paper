{
 "cells": [
  {
   "attachments": {},
   "cell_type": "markdown",
   "id": "94632e37-fa5b-4411-a130-09201cd99e61",
   "metadata": {},
   "source": [
    "# Guidance Prompting\n",
    "\t1. Solo Predictive Model\n",
    "\t2. Paired Predictive Model and in-person guidance counselor\n",
    "*Note: the model will predict college fit, not likelihood of admission to stay true to the category of exploration.*\n",
    "\n",
    "**Shared Scenario:**\n",
    "Name: Michael,\n",
    "School Location: Long Island, NY,\n",
    "Academic Interests: Economics, History,\n",
    "Personal Interests: Community service, the outdoors, traveling,\n",
    "College Priorities (most to least important): Financial Fit, Academic Fit, Social Fit,\n",
    "Attributes: First-generation, Latino, one older brother going to state school\n",
    "\n",
    "*Note: This information will be shared to the LLM guide first, before it is looked over by the guidance counselor to give contextual understanding and discussion to what's said through the LLM predictive model.*"
   ]
  },
  {
   "cell_type": "markdown",
   "id": "fedc8966-c41f-46d7-ad54-3bf4e56c054a",
   "metadata": {},
   "source": [
    "**Concept:** The attempt shown before you is a refined example that adds in the prompt \"Please try and act like you are having a conversation with the user, almost as if you're having a fluid conversation about their demographics, academic and personal interests that connect them to a college with good financial, academic, and social fit.\" The Failed version will also be uploaded in a different jupyter notebook titled \"Failed Prompting\", simply because it acted too much like an LLM with the opposite of digestible information for any time-strapped guidance counselor to look over"
   ]
  }
 ],
 "metadata": {
  "kernelspec": {
   "display_name": "Python 3-12 (COMM4190)",
   "language": "python",
   "name": "python3-12_comm4190"
  },
  "language_info": {
   "codemirror_mode": {
    "name": "ipython",
    "version": 3
   },
   "file_extension": ".py",
   "mimetype": "text/x-python",
   "name": "python",
   "nbconvert_exporter": "python",
   "pygments_lexer": "ipython3",
   "version": "3.12.8"
  }
 },
 "nbformat": 4,
 "nbformat_minor": 5
}
