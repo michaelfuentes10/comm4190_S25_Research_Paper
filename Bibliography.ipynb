{
 "cells": [
  {
   "cell_type": "markdown",
   "id": "b210b68c-b1a2-40d2-b975-57320996f280",
   "metadata": {},
   "source": [
    "# **Bibliography**"
   ]
  },
  {
   "cell_type": "markdown",
   "id": "3d9dafbf-1899-46cb-bcb0-b47492ca6adc",
   "metadata": {},
   "source": [
    "### Source 1:\n",
    "IES Staff, “How Often Do High School Students Meet with Counselors about College? Differences by Parental Education and Counselor Caseload.” IES, 7 Jan. 2025, ies.ed.gov/learn/blog/how-often-do-high-school-students-meet-counselors-about-college-differences-parental-education-and. \n",
    "In-text citation: (IES Staff, 2024)."
   ]
  },
  {
   "cell_type": "markdown",
   "id": "67206acd-0820-4ce5-a25d-5e1634d79d80",
   "metadata": {},
   "source": [
    "### Source 2:\n",
    "Van Busum, Kelly, and Shiaofen Fang. “Analysis of AI Models for Student Admissions: A Case Study | Proceedings of the 38th ACM/SIGAPP Symposium on Applied Computing.” ACM Digital Library, 7 June 2023, dl.acm.org/doi/abs/10.1145/3555776.3577743. \n",
    "In-text citation: (Van Busum and Fang, 2023)"
   ]
  },
  {
   "cell_type": "markdown",
   "id": "c3a2fa9a-f964-4f6a-9d18-ddddbab0b34f",
   "metadata": {},
   "source": [
    "## Source 3:\n",
    "Dockery, Donna J., and Susan McKelvey. “Underrepresented College Students’ Experiences with School Counselors.” Journal of School Counseling, Journal of School Counseling. Montana State University, College of Education, Health and Human Development, 30 Nov. 2013, eric.ed.gov/?id=EJ1012298.\n",
    "In-text citation: (Dockery and McKelvey, 2013)"
   ]
  }
 ],
 "metadata": {
  "kernelspec": {
   "display_name": "Python 3-12 (COMM4190)",
   "language": "python",
   "name": "python3-12_comm4190"
  },
  "language_info": {
   "codemirror_mode": {
    "name": "ipython",
    "version": 3
   },
   "file_extension": ".py",
   "mimetype": "text/x-python",
   "name": "python",
   "nbconvert_exporter": "python",
   "pygments_lexer": "ipython3",
   "version": "3.12.8"
  }
 },
 "nbformat": 4,
 "nbformat_minor": 5
}
