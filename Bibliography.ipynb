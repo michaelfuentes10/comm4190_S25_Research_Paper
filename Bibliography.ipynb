{
 "cells": [
  {
   "cell_type": "markdown",
   "id": "b210b68c-b1a2-40d2-b975-57320996f280",
   "metadata": {},
   "source": [
    "# **Bibliography**"
   ]
  },
  {
   "cell_type": "markdown",
   "id": "3d9dafbf-1899-46cb-bcb0-b47492ca6adc",
   "metadata": {},
   "source": [
    "### Source 1:\n",
    "“How Often Do High School Students Meet with Counselors about College? Differences by Parental Education and Counselor Caseload.” IES, 7 Jan. 2025, ies.ed.gov/learn/blog/how-often-do-high-school-students-meet-counselors-about-college-differences-parental-education-and. "
   ]
  }
 ],
 "metadata": {
  "kernelspec": {
   "display_name": "Python 3-12 (COMM4190)",
   "language": "python",
   "name": "python3-12_comm4190"
  },
  "language_info": {
   "codemirror_mode": {
    "name": "ipython",
    "version": 3
   },
   "file_extension": ".py",
   "mimetype": "text/x-python",
   "name": "python",
   "nbconvert_exporter": "python",
   "pygments_lexer": "ipython3",
   "version": "3.12.8"
  }
 },
 "nbformat": 4,
 "nbformat_minor": 5
}
