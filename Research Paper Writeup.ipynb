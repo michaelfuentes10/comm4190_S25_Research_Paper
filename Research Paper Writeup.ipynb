{
 "cells": [
  {
   "cell_type": "markdown",
   "id": "0ad097f6-910e-43ab-a64e-1924a5d69420",
   "metadata": {},
   "source": [
    "# **Augmenting College Guidance: The Role of LLMs in Student-Counselor Interactions**"
   ]
  },
  {
   "cell_type": "markdown",
   "id": "4bf22023-f41c-45f7-bdb6-6134aacc301e",
   "metadata": {},
   "source": [
    "Among students applying to college, it's almost guaranteed that they will have a question or two that they cannot answer alone. So, within high schools across the United States, their #1 solution is to direct their students to guidance counselors. Guidance counselors, while helpful, often face very high caseloads, as evidenced by a longitudinal study of 944 schools across the United States. According to a 2024 source, the average caseload of guidance counselors was 375 students per counselor, meaning 375 students may be relying on one person for their personalized college guidance support (IES Staff, 2024). This phenomenon poses a great inequity among individuals, with students of guidance counselors with greater caseloads being less likely to visit their guidance counselor (70% of students for high caseload vs 79% for low caseload guidance counselors) (IES Staff, 2024). Additionally, with potential explorations into the use of AI in assessing college admissions (Van Busum and Fang, 2023), it is appropriate to discuss how AI can be used on the opposite end of college admissions: student-to-counselor relations."
   ]
  },
  {
   "cell_type": "markdown",
   "id": "8643b024-4a72-4e67-9356-527444177fab",
   "metadata": {},
   "source": [
    "Before we discuss how truly impactful LLMs can be in guidance counseling, it is important to examine the source of impact that regular guidance counselors have on high school students aiming for a college education. In a statewide evaluation of over 22,000 Missouri high school students across 236 schools, researchers explored the impact of well-defined guidance programs on overall student benefits. Statistical controlling for school-level differences, such as enrollment size, socioeconomic level and minority student attendance led the article to claim that \"students attending schools that had a more fully implemented guidance program were more likely to indicate that the quality of their education was adequately preparing them for their future than were students enrolled in schools with less fully implemented guidance programs.\" (Lapan, Gysbers, and Sun, 298). To clarify, \"more fully implemented guidance programs\" involved personalized 1-on-1 assessment of students' academic strengths and interests, as well as support aligning course selections with future career goals. Such programs also featured, organized, college-oriented frameworks that help reduce exacerbating counselor caseload while ensuring that counselor responsibilities extend beyond general administrative tasks (Lapan, Gysbers, and Sun, 295). Thus, this article's hierarchical linear modeling techniques tell us that individual academic exploration and a well-thought-out AND well-executed guidance program best support students' college application success."
   ]
  },
  {
   "cell_type": "markdown",
   "id": "4f5bba5b-fa30-4c66-a836-9f1d11feaa99",
   "metadata": {},
   "source": [
    "In recent years, asynchronous technologies (i.e., Google Suite, Canvas, Zoom) have transformed the educational landscape across K-12 and higher education. For example, graduating students had to receive college counseling through these virtual services, potentially isolating students who would otherwise be more engaged due to technology limitations and personal strife (Guarantz et al., 2020). Aligned research on the benefits of student guidance via face-to-face human interaction \"has been generally shown to increase college attendance and persistence\" (Guarantz et al., 2020). While this research, controlling for income status, implies that virtual advising is a meaningful, randomly assigned intervention, one general limitation is a lack of engagement. Out of the 16,256 students introduced to the randomized guidance intervention, only 44% participated. However, those who did participate were more likely to participate and succeed in a four-year college. This improved likelihood for college preparation and success, while confounded by uncontrolled variables (i.e., student's motivation and aptitude), is likely caused by \"a close connection with a counselor and dialogue regarding a students's interest, as low-touch interventions that do not strongly prescribe certain colleges produce few effects.\" (Guarantz et al., 2020). To clarify, \"low-touch interventions\" refers to less frequently sustained outreach from guidance counselors, such as generic mass emails or fully virtual meetings without 1-on-1 personalized follow-ups. Thus, just as we had clarified in the past, it is the intervention of an active, focused guidance program that highly supports the communication between a curious student and a guidance counselor."
   ]
  },
  {
   "cell_type": "markdown",
   "id": "c06bf332-c2bc-41b8-bb7b-6203b2607f88",
   "metadata": {},
   "source": [
    "To build on the established framework of \"fully implemented guidance programs\", examining the typical structure and communication workflow of a 1-on-1 conversation between a guidance counselor and a student is helpful. To do this, I will acknowledge that there are three broad categories of conversations relating to college between guidance counselors and students, those being discussions on (1) Academic and Personal Interests Exploration, (2) College and Major Field of Study Exploration, and (3) College Essays and Applications. Guidelines regarding these broader categories exist via \"position statements\" made by the American School Counselor Association. \n",
    "\n",
    "Regarding the first category, ASCA's statements on \"Academic Development\" and \"Career Development\" best align with guiding principles for counselors to follow. In this category, counselors are encourages to \"engage in challenging coursework and work to address and remove barriers to acess the most rigorous coursework appropriate for each student\" (ASCA Position Statements, 1) while also \"working with students to identify their interests, abilities, specific career clusters, and postsecondary plans\" (ASCA Position Statements, 10). \n",
    "\n",
    "Meanwhile, categories 2 and 3 most align with ASCA's \"Postsecondary Preparation\" and \"Career Development\" statements. The key emphasis in these sections relating to college exploration and application was to encourage students to \"practice\tself-reflection\tand\tgrowth\tinvolving\ttraditional\tcareer\troles...\" and \"Facilitate co-curricular/extracurricular opportunities aligned with students' goals\" (ASCA Position Statements, 10 and 71). Throughout these position statements, there are implications that the student should lead these discussions, emphasizing the importance of student agency in their interest exploration and future in general. Additionally, guidance counselors are granters of opportunity and information within the postsecondary institution. \n",
    "\n",
    "For example, a student interested in technology may initiate a conversation about computer science while letting them lead the conversation. A counselor might probe this interest with follow-up questions, suggest relevant clubs like Robotics or Computer Club, and provide information about colleges with strong tech programs. Phrases such as \"facilitate\" and \"guide\" throughout the ASCA documents reinforce the counselor's role as a partner in the student's exploration. Ultimately, counselors do not direct a student's path, but support it through conversation, resources, and sustained dialogue."
   ]
  },
  {
   "cell_type": "markdown",
   "id": "35f94161-6252-49a4-a7f9-ee32bcd736e4",
   "metadata": {},
   "source": [
    "Before prompting to explore how LLMs might enhance guidance counseling, it will be helpful to analyze literature on how LLMs can be implemented. While no fully autonomous AI-based guidance counselors exist, research points to how AI shows potential in this realm. For example, Majjate et al found that certain AI models can be highly predictive of students' admission odds based on diagnostic characteristics. These characteristics involving academic and preference variables were factored into a web-based application for students to supplement the efforts of high caseload guidance counselors (Majjate et al., 2023). Their system, tested on data from 500 graduates across 12 public high schools in Morocco, demonstrated high predictive accuracy, particularly with the Huber Regressor model, which outperformed 12 other algorithms.  (Majjate et al., 2023). These models' predictive efforts likely supplement guidance counseling work, offering organized context on students' college prospects, allowing fr expedited personal discussions. Being able to predict a student's probability of being admitted to a college seems helpful, but raises some ethical concerns. For example, within low-income schools serving first-generation students of color, they may receive racially biased tips, recommending non-profit schools that do not have lower acceptance rates (Knox, 2024). The reality remains that, despite caseloads not permitting equitable time for student guidance, the personal touch of a guidance counselor must remain in this narrative to understand the context of each unique student, evaluating their potential and interests outside of mathematical compatibility. "
   ]
  },
  {
   "cell_type": "markdown",
   "id": "751e668e-c6e5-4e2e-a544-23449e0e3ce7",
   "metadata": {},
   "source": [
    "Among the three core directives of guidance counseling, (1) academic and interest explorations, (2) college and major selection, and (3) college essays and applications, I will focus on phase 2: college and major selection. I'll over some beginner prompts for Chat GPT 4.1 to understand it's role in evaluating the broader probability of students' college admissions. I'll have one scenario where the student is a lot more engaged and knowledgeable of their interests and goals. Then, I will have another exampple scenario where there's a lot more ambiguity in the student's responses, higlighting a greater need for active listening and probing by the counselor. As a form of reflection, below I'll include my take on each scenario from the perspective of a guidance counselor overseeing both scenarios put forth.\n",
    "\n",
    "To clarify, I had to set forth these two scenarios via a second attempt because the first attempt was so excessively long in its thorough analyses and resource provisions. As a result, I had to follow the prompting with this statement: “Please try and act like you are having a conversation with the user, almost as if you're having a fluid conversation about their demographics, academic and personal interests that connect them to a college with good financial, academic, and social fit.” This framing led to an impressively human-like interaction across both scenarios that mirrored the natural flow of a real counseling session. For example, across both scenarios, the conversation appropriately pivoted from general student interests to more contextually relevant topics like geographic preference, which is a critical factor in narrowing college options. The model also demonstrated vast knowledge of academic, financial, and social fit, which are key factors in choosing a college to attend. I believe the first scenario was more successful in maintaining a consistent flow in conversation and probing in the first scenario. However, this greater level of success may eb due to the student already being relatively self-aware and articulate. In this scenario of a goal-driven student, the LLM was met with clarity, not confusion, which is a luxury most counselors rarely have. In contrast, when tested with a more indecisive student profile (scenario 2), the model showed some limitations. Unlike a human counselor who can draw out tentative students with emotional intuition and live feedback, the LLM struggled to guide a disinterested student effectively without more direct, awkward prompting (which I, in the roleplay, obliged to for the sake of the experiment). Still, the LLM’s empathy-driven responses were notable. It still effectively acted as a compassionate counselor, and through the right prompting, was able to help the student navigate sensitive topics like major selection or family pressure to attend college. In one example, the model responded with emotional intelligence when a student expressed disengagement due to negative classroom experiences. That said, it tended to overdeliver resources still (even with the extra statement), which could potentially overwhelm students or counselors working within time constraints. This trait, although well-intentioned, highlights the need for human oversight from a figure such as a guidance counselor in filtering and contextualizing information. Ultimately, while ChatGPT 4.1 is not a substitute for meaningful human engagement, it has demonstrated real potential to serve as a reliable, empathetic, and well-organized knowledge base. This phenomena is especially true when students are clear about their needs and when prompting is deliberate and specific."
   ]
  },
  {
   "cell_type": "markdown",
   "id": "6aee24cc-05b8-4018-b870-245ff7f79ee6",
   "metadata": {},
   "source": [
    "Through my research, I was struck by how often the value of personalized mentorship in counseling is emphasized, even though it is not feasible in many schools across the U.S. and abroad. The reality is that college guidance often falls on the students themselves, especially in under-resourced schools. However, the literature and data I explored revealed that LLMs, with their predictive modeling and ability to organize lots of complex information, can serve as powerful supplements, and in limited cases, partial replacements, for traditional guidance counseling. With carefully crafted prompts, these models can simulate personalized conversations that make students feel supported from the comfort of their homes. Still, this potential does not diminish the critical role that human counselors play. National guidelines show that counselors are tasked with far more than administrative duties; they are mentors who guide entire generations of students through academic choices, extracurricular exploration, and postsecondary planning. Perhaps the most effective use of AI lies in its ability to help counselors, not replace them, by collecting and synthesizing student data ahead of time to make 1-on-1 sessions more focused and impactful. AI can assist in the communication framework between students and counselors, but it must be used with caution. It lacks natural empathy, cultural nuance, and often floods users with excessive resources that dilute more human-centered dialogue. How AI is ultimately integrated into college guidance will depend on how we address these limitations. Until then, one thing is clear: counselors are, and will continue to be, an essential part of the student journey beyond high school."
   ]
  }
 ],
 "metadata": {
  "citation-manager": {
   "items": {}
  },
  "kernelspec": {
   "display_name": "Python 3-12 (COMM4190)",
   "language": "python",
   "name": "python3-12_comm4190"
  },
  "language_info": {
   "codemirror_mode": {
    "name": "ipython",
    "version": 3
   },
   "file_extension": ".py",
   "mimetype": "text/x-python",
   "name": "python",
   "nbconvert_exporter": "python",
   "pygments_lexer": "ipython3",
   "version": "3.12.8"
  }
 },
 "nbformat": 4,
 "nbformat_minor": 5
}
