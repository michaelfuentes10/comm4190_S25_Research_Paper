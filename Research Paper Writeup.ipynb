{
 "cells": [
  {
   "cell_type": "markdown",
   "id": "0ad097f6-910e-43ab-a64e-1924a5d69420",
   "metadata": {},
   "source": [
    "# **Augmenting College Guidance: The Role of LLMs in Student-Counselor Interactions**"
   ]
  },
  {
   "cell_type": "markdown",
   "id": "4bf22023-f41c-45f7-bdb6-6134aacc301e",
   "metadata": {},
   "source": [
    "Among students applying to college, it's almost guaranteed they will have a question or two that they won't be able to ahndle alone. So, within high schools across the United States, their #1 solution is to direct their students to guidance counselors. Guidance counselors, while helpful, often face very high caseloads, as evidenced by a longitudinal study of 944 schools across the United States. As per a 2024 source, the average caseload of guidance counselors was 375 students per counselor, meaning potentially 375 students may be relying on one person for their personalized college guidance support (IES Staff, 2024). This phenomena poses a great inequity among individual with students of guidance counselors with greater caseloads being less likely to visit their guidance counselor (70% of students for high caseload vs 79% for low caseload guidance counselors) (IES Staff, 2024). Additionally, with potential explorations into the use of AI in assessing college admissions (Van Busum and Fang, 2023), I felt it appropriate to discuss how AI can be used on the opposite end of college admissions: student to counselor relations!\n",
    "\n",
    "As we discuss "
   ]
  },
  {
   "cell_type": "code",
   "execution_count": null,
   "id": "3ddb197f-7275-4f00-915d-0443f717b5e3",
   "metadata": {},
   "outputs": [],
   "source": []
  }
 ],
 "metadata": {
  "citation-manager": {
   "items": {}
  },
  "kernelspec": {
   "display_name": "Python 3-12 (COMM4190)",
   "language": "python",
   "name": "python3-12_comm4190"
  },
  "language_info": {
   "codemirror_mode": {
    "name": "ipython",
    "version": 3
   },
   "file_extension": ".py",
   "mimetype": "text/x-python",
   "name": "python",
   "nbconvert_exporter": "python",
   "pygments_lexer": "ipython3",
   "version": "3.12.8"
  }
 },
 "nbformat": 4,
 "nbformat_minor": 5
}
