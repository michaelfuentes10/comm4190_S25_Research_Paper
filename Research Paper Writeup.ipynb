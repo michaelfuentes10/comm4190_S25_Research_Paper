{
 "cells": [
  {
   "cell_type": "markdown",
   "id": "0ad097f6-910e-43ab-a64e-1924a5d69420",
   "metadata": {},
   "source": [
    "# **Augmenting College Guidance: The Role of LLMs in Student-Counselor Interactions**"
   ]
  },
  {
   "cell_type": "markdown",
   "id": "4bf22023-f41c-45f7-bdb6-6134aacc301e",
   "metadata": {},
   "source": [
    "Among students applying to college, it's almost guaranteed they will have a question or two that they won't be able to ahndle alone. So, within high schools across the United States, their #1 solution is to direct their students to guidance counselors. Guidance counselors, while helpful, often face very high caseloads, as evidenced by a longitudinal study of 944 schools across the United States. As per a 2024 source, the average caseload of guidance counselors was 375 students per counselor, meaning potentially 375 students may be relying on one person for their personalized college guidance support (IES Staff, 2024). This phenomena poses a great inequity among individual with students of guidance counselors with greater caseloads being less likely to visit their guidance counselor (70% of students for high caseload vs 79% for low caseload guidance counselors) (IES Staff, 2024). Additionally, with potential explorations into the use of AI in assessing college admissions (Van Busum and Fang, 2023), I felt it appropriate to discuss how AI can be used on the opposite end of college admissions: student to counselor relations!\n",
    "\n",
    "Before we discuss how truly impactful LLMs can be in guidance counseling, it's important to examine the source of impact that regular guidance counselors have on high school students aiming for a college education. In a statewide evaluation of over 22,000 Missouri high school students across 236 schools, researchers explored the impact of well-defined guidance programs on overall student benefits. Statistical controlling for school-level differences, such as enrollment size, socioeconomic level and minority student attendance led the article to claim that \"students attending schools that had a more fully implemented guidance program were more likely to indicate that the quality of their education was adequately preparing them for their future than were students enrolled in schools with less fully implemented guidance programs.\" (Lapan, Gysbers, and Sun, 298). To clarify, \"more fully implemented guidance programs\" involved personalized 1-on-1 assessment of students' academic strengths and interests, as well as support aligning course selections with future career goals. Such programs also featured, organized, college-oriented frameworks that help reduce exacerbating counselor caseload while ensuring that counselor responsibilities extend beyond general administrative tasks (Lapan, Gysbers, and Sun, 295). Thus, this article's hierarchical linear modeling techniques tell us that both individual academic exploration and a well thought out AND well executed guidance program best supports students' college application success.\n",
    "\n",
    "In recent years, asynchronous technologies (i.e., Google Suite, Canvas, Zoom) have transformed the educational landscape across K-12 and higher education. For example, graduating classes of students had to receive college counseling through these virtual services, potentially isolating students who would otherwise be more engaged due to technology limitations and personal strife (Guarantz et al., 2020). In fact, aligned research on the benefits of student guidance via face-to-face human interaction \"has been generally shown to increase college attendance and persistance\" (Guarantz et al., 2020). While this research, controlling for income status, implies that virtual advising is a meaningful randomly assigned intervention, one general limitation is a lack of engagement. Out of the 16,256 students introduced to the randomized guidance intervention, only 44% actually participated. However, those who did participate were more likely to participate and succeed in a four-year college. This improved likelihood for college preparation and success, while confounded by uncontrolled variables (i.e., student's individual motivation and aptitude), is likely caused by \"a close connection with a counselor and dialogue regarding a students's interest, as low-touch interventions that do not strongly prescribe certain colleges produce few effects.\" (Guarantz et al., 2020). To clarify, \"low-touch interventions\" refers to less frequently sustained outreach from guidance counselors, such as generic mass emails or fully virtual meetings without 1-on-1 personalized follow-ups. Thus, just as we had clarified in the past, it is the intervention of an active, focused guidance program that highly supports the communication between a curious student and a guidance counselor.\n",
    "\n",
    "To build on the established framework of \"fully implemented guidance programs\", it is useful to examine the typical structure and communication workflow of a 1-on-1 conversation between a guidance counselor and a student. To do this, I will acknowledge that there are three broad categories of conversations relating to college between guidance counselors and students, those being discussions on (1) Academic and Personal Interests Exploration, (2) College and Major Field of Study Exploration, and (3) College Essays and Applications. Guidelines regarding these broader categories exists via \"position statements\" made by the American School Counselor Association. Regarding the first category, ASCA's statements on \"Academic Development\" and \"Career Development\" best align to guiding principles for counselors to follow. In this category, counselors are encourages to \"engage in challenging coursework and work to address and remove barriers to acess the most rigorous coursework appropriate for each student\" (ASCA Position Statements, 1) while also \"working with students to identify their interests, abilities, specific career clusters, and post-secondary plans\" (ASCA Position Statements, 10). Meanwhile, categories 2 and 3 most align with ASCA's position statements on \"Postsecondary Preparation\" and \"Career Development\". The key emphasis in these sections relating to college exploration and application were to encourage students to \"practice\tself-reflection\tand\tgrowth\tinvolving\ttraditional\tcareer\troles...\" and \"Facilitate co-curricular/extracurricular opportunities aligned with students’ goals\" (ASCA Position Statements, 10 and 71). Throughout these position statements, there are implications that these discussions should be led by the student, emphasizing the importance of student agency in their interest exploration and future in general. Additionally, guidance counselors are also granters of opportunity and information within the postsecondary institution. For example, in a conversation between a guidance counselor and a student, the student should lead in explaining their broader interest in computers and technology. This discussion could lead the guidance counselor to probe this interest through casual conversation while informing the student of certain tech-oriented clubs, such as Computer Club or Robotics Club. Additionally, phrases such as \"facilitate\" and \"guide\" emphasize the importance of longer-term dialogue and the growth or shifts of these students' interests leading into college applications. Thus, this scenario can conclude with the student talking about their personal preferences for school, desired major (i.e., Computer Science) and learning from their guidance counselor how to learn more about different colleges. Overall, this fits into the communicative narrative of a guidance counselor serving as a \"guide\", not as a \"director\" of the student's college application experience. Rather, paired with information promted by the student, guidance counselors support the self-learning and information processing of said students to lead them to their goals and future."
   ]
  },
  {
   "cell_type": "code",
   "execution_count": null,
   "id": "3ddb197f-7275-4f00-915d-0443f717b5e3",
   "metadata": {},
   "outputs": [],
   "source": []
  }
 ],
 "metadata": {
  "citation-manager": {
   "items": {}
  },
  "kernelspec": {
   "display_name": "Python 3-12 (COMM4190)",
   "language": "python",
   "name": "python3-12_comm4190"
  },
  "language_info": {
   "codemirror_mode": {
    "name": "ipython",
    "version": 3
   },
   "file_extension": ".py",
   "mimetype": "text/x-python",
   "name": "python",
   "nbconvert_exporter": "python",
   "pygments_lexer": "ipython3",
   "version": "3.12.8"
  }
 },
 "nbformat": 4,
 "nbformat_minor": 5
}
