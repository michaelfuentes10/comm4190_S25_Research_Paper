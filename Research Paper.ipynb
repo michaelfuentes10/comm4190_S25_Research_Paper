{
 "cells": [
  {
   "cell_type": "code",
   "execution_count": null,
   "id": "32b7ce06-9058-4174-a88b-da3c83c45f23",
   "metadata": {},
   "outputs": [],
   "source": [
    "---\n",
    "title: \"This is my research paper\"\n",
    "description: \"Today I made ChatGPT think that they were wrong about everything! While there's a disclaimer at the bottom of CHatGPT's UI stating 'ChatGPT can make mistakes. Check important info.', I took that to the extreme!\"\n",
    "author: \"Michael Fuentes\"\n",
    "date: \"4/02/2025\"\n",
    "\n",
    "execute:\n",
    "  output: asis\n",
    "categories:\n",
    "  - LLMs\n",
    "  - prompting\n",
    "  - logic\n",
    "---"
   ]
  }
 ],
 "metadata": {
  "citation-manager": {
   "items": {}
  },
  "kernelspec": {
   "display_name": "Python 3-12 (COMM4190)",
   "language": "python",
   "name": "python3-12_comm4190"
  },
  "language_info": {
   "codemirror_mode": {
    "name": "ipython",
    "version": 3
   },
   "file_extension": ".py",
   "mimetype": "text/x-python",
   "name": "python",
   "nbconvert_exporter": "python",
   "pygments_lexer": "ipython3",
   "version": "3.12.8"
  }
 },
 "nbformat": 4,
 "nbformat_minor": 5
}
